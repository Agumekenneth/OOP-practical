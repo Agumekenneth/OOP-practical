{
 "cells": [
  {
   "cell_type": "markdown",
   "id": "4853f173",
   "metadata": {},
   "source": [
    "- AGUME KENNETH B30309"
   ]
  },
  {
   "cell_type": "markdown",
   "id": "b67a1369",
   "metadata": {},
   "source": [
    "- Question one"
   ]
  },
  {
   "cell_type": "markdown",
   "id": "820ac139",
   "metadata": {},
   "source": [
    "1. a"
   ]
  },
  {
   "cell_type": "code",
   "execution_count": 49,
   "id": "e082c748",
   "metadata": {},
   "outputs": [
    {
     "name": "stdout",
     "output_type": "stream",
     "text": [
      "Jinx moves to (5, 10)\n",
      "Jinx performs an attack!\n",
      "The Mazda is driving at 80 km/h. Fuel left: 40\n",
      "Vehicle refueled. Current fuel: 60\n"
     ]
    }
   ],
   "source": [
    "class Character:\n",
    "    def __init__(self, name, health, position):\n",
    "        self.__name = name  # making all the attributes private\n",
    "        self.__health = health      \n",
    "        self.__position = position  \n",
    " # Getters\n",
    "    def get_name(self):\n",
    "        return self.__name\n",
    "    def get_health(self):\n",
    "        return self.__health\n",
    "    def get_position(self):\n",
    "        return self.__position\n",
    "\n",
    "    # Setters\n",
    "    def set_health(self, amount):\n",
    "        self.__health = amount\n",
    "    def move(self, new_position):\n",
    "        self.__position = new_position\n",
    "        print(f\"{self.__name} moves to {self.__position}\")\n",
    "    def attack(self):\n",
    "        print(f\"{self.__name} performs an attack!\")\n",
    "    def interact(self):\n",
    "        print(f\"{self.__name} interacts with the environment.\")\n",
    "\n",
    "\n",
    "# Class Vehicle\n",
    "class Vehicle:\n",
    "    def __init__(self, vehicle_type, speed, fuel):\n",
    "        self.__vehicle_type = vehicle_type  \n",
    "        self.__speed = speed                \n",
    "        self.__fuel = fuel                  \n",
    "    # Getters\n",
    "    def get_type(self):\n",
    "        return self.__vehicle_type\n",
    "    def get_fuel(self):\n",
    "        return self.__fuel\n",
    "   # Setters\n",
    "    def set_fuel(self, amount):\n",
    "        self.__fuel = amount\n",
    "    def drive(self):\n",
    "        if self.__fuel > 0:\n",
    "            self.__fuel -= 10\n",
    "            print(f\"The {self.__vehicle_type} is driving at {self.__speed} km/h. Fuel left: {self.__fuel}\")\n",
    "        else:\n",
    "            print(\"The vehicle is out of fuel!\")\n",
    "    def refuel(self, amount):\n",
    "        self.__fuel += amount\n",
    "        print(f\"Vehicle refueled. Current fuel: {self.__fuel}\")\n",
    "\n",
    "    def stop(self):\n",
    "        print(f\"The {self.__vehicle_type} has stopped.\")\n",
    "\n",
    "\n",
    "# Example Usage\n",
    "player = Character(\"Jinx\", 100, (0, 0))\n",
    "player.move((5, 10))\n",
    "player.attack()\n",
    "\n",
    "car = Vehicle(\"Mazda\", 80, 50)\n",
    "car.drive()\n",
    "car.refuel(20)\n"
   ]
  },
  {
   "cell_type": "markdown",
   "id": "8f7757b8",
   "metadata": {},
   "source": [
    "1.b"
   ]
  },
  {
   "cell_type": "code",
   "execution_count": 50,
   "id": "729dc597",
   "metadata": {},
   "outputs": [
    {
     "name": "stdout",
     "output_type": "stream",
     "text": [
      "Kate gets into the Mazda.\n",
      "The Mazda is driving at 80 km/h. Fuel left: 50\n",
      "Kate gets out of the vehicle.\n"
     ]
    }
   ],
   "source": [
    "class CharacterVehicle(Character):\n",
    "    def __init__(self, name, health, position):\n",
    "        super().__init__(name, health, position)\n",
    "        self.__vehicle = None   # hidden implementation detail\n",
    "    def get_in(self, vehicle):\n",
    "        self.__vehicle = vehicle\n",
    "        print(f\"{self.get_name()} gets into the {vehicle.get_type()}.\")\n",
    "    def get_out(self):\n",
    "        print(f\"{self.get_name()} gets out of the vehicle.\")\n",
    "        self.__vehicle = None\n",
    "\n",
    "\n",
    "# Example Interaction\n",
    "driver = CharacterVehicle(\"Kate\", 90, (2, 3))\n",
    "driver.get_in(car)\n",
    "car.drive()\n",
    "driver.get_out()\n"
   ]
  },
  {
   "cell_type": "markdown",
   "id": "28991395",
   "metadata": {},
   "source": [
    "1.c"
   ]
  },
  {
   "cell_type": "code",
   "execution_count": 57,
   "id": "8e0532ca",
   "metadata": {},
   "outputs": [
    {
     "name": "stdout",
     "output_type": "stream",
     "text": [
      "Martha performs a double jump!\n"
     ]
    }
   ],
   "source": [
    "class HeroCharacter(CharacterVehicle):\n",
    "    def double_jump(self):\n",
    "        print(f\"{self.get_name()} performs a double jump!\")\n",
    "\n",
    "hero = HeroCharacter(\"Martha\", 120, (0, 0))\n",
    "hero.double_jump()\n"
   ]
  },
  {
   "cell_type": "markdown",
   "id": "615f5174",
   "metadata": {},
   "source": [
    "1.d"
   ]
  },
  {
   "cell_type": "code",
   "execution_count": 62,
   "id": "6e9c47d1",
   "metadata": {},
   "outputs": [
    {
     "name": "stdout",
     "output_type": "stream",
     "text": [
      "Nathan interacts with the environment.\n",
      "The vehicle is out of fuel!\n"
     ]
    }
   ],
   "source": [
    "def perform_action(obj):\n",
    "    obj_type = type(obj).__name__\n",
    "    if isinstance(obj, Character):\n",
    "        obj.interact()\n",
    "    elif isinstance(obj, Vehicle):\n",
    "        obj.drive()\n",
    "#Example\n",
    "perform_action(player)  \n",
    "perform_action(car)      \n"
   ]
  },
  {
   "cell_type": "markdown",
   "id": "163ddf5b",
   "metadata": {},
   "source": [
    "1.e"
   ]
  },
  {
   "cell_type": "code",
   "execution_count": 60,
   "id": "a90656fa",
   "metadata": {},
   "outputs": [
    {
     "name": "stdout",
     "output_type": "stream",
     "text": [
      "\n",
      " GAME SCENARIO START \n",
      "\n",
      "Martha moves to (3, 4)\n",
      "Hero finds a car nearby!\n",
      "Martha gets into the Car.\n",
      "The vehicle is out of fuel!\n",
      "The vehicle is out of fuel!\n",
      "Martha gets out of the vehicle.\n",
      "Hero encounters an enemy!\n",
      "Martha performs an attack!\n",
      "Martha performs a double jump!\n",
      "\n",
      "--- MISSION COMPLETED SUCCESSFULLY ---\n"
     ]
    }
   ],
   "source": [
    "print(\"\\n GAME SCENARIO START \\n\")\n",
    "\n",
    "hero.move((3, 4))\n",
    "print(\"Hero finds a car nearby!\")\n",
    "\n",
    "hero.get_in(car)\n",
    "car.drive()\n",
    "car.drive()\n",
    "\n",
    "hero.get_out()\n",
    "print(\"Hero encounters an enemy!\")\n",
    "hero.attack()\n",
    "hero.double_jump()\n",
    "\n",
    "print(\"\\n--- MISSION COMPLETED SUCCESSFULLY ---\")\n"
   ]
  }
 ],
 "metadata": {
  "kernelspec": {
   "display_name": "Python 3",
   "language": "python",
   "name": "python3"
  },
  "language_info": {
   "codemirror_mode": {
    "name": "ipython",
    "version": 3
   },
   "file_extension": ".py",
   "mimetype": "text/x-python",
   "name": "python",
   "nbconvert_exporter": "python",
   "pygments_lexer": "ipython3",
   "version": "3.12.5"
  }
 },
 "nbformat": 4,
 "nbformat_minor": 5
}
