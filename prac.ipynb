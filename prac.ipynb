{
 "cells": [
  {
   "cell_type": "markdown",
   "id": "eb8af07f",
   "metadata": {},
   "source": [
    "## Question 1: Library Management System"
   ]
  },
  {
   "cell_type": "code",
   "execution_count": 7,
   "id": "6d684a7d",
   "metadata": {},
   "outputs": [
    {
     "name": "stdout",
     "output_type": "stream",
     "text": [
      "2\n",
      "Sorry, To Kill a Mockingbird is currently unavailable.\n",
      "1\n",
      "6\n"
     ]
    }
   ],
   "source": [
    "class Book:\n",
    " def __init__(self,title,author,copies_available,):\n",
    "    self.title = title\n",
    "    self.author = author\n",
    "    self.copies_available = copies_available\n",
    "    self.copies ={}\n",
    "\n",
    " def new_count(self,new_count):\n",
    "    self.copies_available += new_count\n",
    "    \n",
    " def borrow_book(self):\n",
    "    if self.copies_available > 0:\n",
    "        self.copies_available -= 1\n",
    "        return self.copies_available\n",
    "    else:\n",
    "        print(f\"Sorry, {self.title} is currently unavailable.\")\n",
    "\n",
    " def return_book(self):\n",
    "    self.copies_available += 1\n",
    "    return self.copies_available\n",
    " \n",
    "\n",
    "Book1 = Book(\"To Kill a Mockingbird\", \"Harper Lee\", 3)\n",
    "print(Book1.borrow_book())\n",
    "Book1.borrow_book()\n",
    "Book1.borrow_book()\n",
    "Book1.borrow_book()\n",
    "\n",
    "Book1.return_book()\n",
    "print(Book1.copies_available)\n",
    "Book1.new_count(5)\n",
    "print(Book1.copies_available)"
   ]
  },
  {
   "cell_type": "markdown",
   "id": "c21a8ed7",
   "metadata": {},
   "source": [
    "## Question 2: Student Result System"
   ]
  },
  {
   "cell_type": "code",
   "execution_count": 6,
   "id": "1562bcb4",
   "metadata": {},
   "outputs": [
    {
     "name": "stdout",
     "output_type": "stream",
     "text": [
      "A\n",
      "B\n",
      "C\n"
     ]
    }
   ],
   "source": [
    "class StudentResult:\n",
    "    def __init__(self,student_name,course,marks):\n",
    "        self.student_name = student_name\n",
    "        self.course = course\n",
    "        self.marks = marks\n",
    "    def new_mark(self,correction):\n",
    "        self.marks += correction\n",
    "    def grade(self):\n",
    "        if self.marks >=80:\n",
    "            return \"A\"\n",
    "        elif 70 <= self.marks < 79:\n",
    "            return \"B\"\n",
    "        elif 60 <= self.marks < 69:\n",
    "            return \"C\"\n",
    "        elif 50 <= self.marks < 59:\n",
    "            return \"D\"\n",
    "        else:\n",
    "            return \"F\"\n",
    "student1 = StudentResult(\"Alice\", \"Mathematics\", 85)\n",
    "student2 = StudentResult(\"Bob\", \"Science\", 72)\n",
    "print(student1.grade())\n",
    "print(student2.grade())\n",
    "\n",
    "student2.new_mark(-5)\n",
    "print(student2.grade())"
   ]
  },
  {
   "cell_type": "markdown",
   "id": "765ab8c7",
   "metadata": {},
   "source": [
    "## Question 3: Vehicle Fuel Tracker"
   ]
  },
  {
   "cell_type": "code",
   "execution_count": 4,
   "id": "db40b6c4",
   "metadata": {},
   "outputs": [
    {
     "name": "stdout",
     "output_type": "stream",
     "text": [
      "Fuel level after trip: 10 liters\n",
      "Refueling done. final fuel level: 40 liters\n",
      "Refueling done. final fuel level: 50 liters\n"
     ]
    }
   ],
   "source": [
    "class Vehicle:\n",
    "    def __init__(self,model,fuel_capacity,fuel_level):\n",
    "        self.model = model\n",
    "        self.fuel_capacity = fuel_capacity\n",
    "        self.fuel_level = fuel_level\n",
    "    def refuel(self,amount):\n",
    "        #increse fuel level\n",
    "        self.fuel_level += amount\n",
    "        #Ensure fuel level doesn't exceed capacity \n",
    "        if self.fuel_level >self.fuel_capacity:\n",
    "            self.fuel_level =self.fuel_capacity\n",
    "        print(f\"Refueling done. final fuel level: {self.fuel_level} liters\")\n",
    "\n",
    "my_car = Vehicle(\"Toyota Corolla\",50,20)\n",
    "my_car.fuel_level -=10\n",
    "print(f\"Fuel level after trip: {my_car.fuel_level} liters\")\n",
    "\n",
    "my_car.refuel(30)\n",
    "my_car.refuel(15)"
   ]
  },
  {
   "cell_type": "markdown",
   "id": "d4d3ca91",
   "metadata": {},
   "source": [
    "## Question 4: Bank Account Management"
   ]
  },
  {
   "cell_type": "code",
   "execution_count": null,
   "id": "0a865ef2",
   "metadata": {},
   "outputs": [
    {
     "name": "stdout",
     "output_type": "stream",
     "text": [
      "Deposited 5000000.Your new balance is 5000000.\n",
      "Withdrew 2000000.Your new balance is 3000000.\n"
     ]
    }
   ],
   "source": [
    "class BankAccount:\n",
    "    def __init__(self,account_holder,account_number,balance):\n",
    "        self.account_holder = account_holder\n",
    "        self.account_number = account_number\n",
    "        self.balance = balance\n",
    "    def deposit(self, amount):\n",
    "            self.balance =+ amount\n",
    "            print(f\"Deposited {amount}.Your new balance is {self.balance}.\")\n",
    "    def withdraw(self, amount):\n",
    "            if amount <= self.balance:\n",
    "                self.balance -= amount\n",
    "                print(f\"Withdrew {amount}.Your new balance is {self.balance}.\")\n",
    "            else:\n",
    "                print(\"Insufficient funds.\")\n",
    "\n",
    "my_account = BankAccount('Agume Kenneth','1234567890',10000000)\n",
    "my_account.deposit(5000000)\n",
    "my_account.withdraw(2000000)"
   ]
  }
 ],
 "metadata": {
  "kernelspec": {
   "display_name": "Python 3",
   "language": "python",
   "name": "python3"
  },
  "language_info": {
   "codemirror_mode": {
    "name": "ipython",
    "version": 3
   },
   "file_extension": ".py",
   "mimetype": "text/x-python",
   "name": "python",
   "nbconvert_exporter": "python",
   "pygments_lexer": "ipython3",
   "version": "3.12.5"
  }
 },
 "nbformat": 4,
 "nbformat_minor": 5
}
