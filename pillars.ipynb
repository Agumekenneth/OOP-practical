{
 "cells": [
  {
   "cell_type": "markdown",
   "id": "b1d356b6",
   "metadata": {},
   "source": [
    "- inheritance"
   ]
  },
  {
   "cell_type": "code",
   "execution_count": 12,
   "id": "16be8c7a",
   "metadata": {},
   "outputs": [
    {
     "name": "stdout",
     "output_type": "stream",
     "text": [
      "Animal name: Buddy\n",
      "Buddy,barks\n"
     ]
    }
   ],
   "source": [
    "class Animal:\n",
    "    def __init__(self, name):\n",
    "        self.name = name\n",
    "    def info(self):\n",
    "        print(f\"Animal name: {self.name}\")\n",
    "class Dog(Animal):\n",
    "    def sound(self):\n",
    "        print(f\"{self.name},barks\")\n",
    "d = Dog('Buddy')\n",
    "d.info()\n",
    "d.sound()"
   ]
  }
 ],
 "metadata": {
  "kernelspec": {
   "display_name": "Python 3",
   "language": "python",
   "name": "python3"
  },
  "language_info": {
   "codemirror_mode": {
    "name": "ipython",
    "version": 3
   },
   "file_extension": ".py",
   "mimetype": "text/x-python",
   "name": "python",
   "nbconvert_exporter": "python",
   "pygments_lexer": "ipython3",
   "version": "3.12.5"
  }
 },
 "nbformat": 4,
 "nbformat_minor": 5
}
