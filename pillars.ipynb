{
 "cells": [
  {
   "cell_type": "markdown",
   "id": "b1d356b6",
   "metadata": {},
   "source": [
    "- inheritance"
   ]
  },
  {
   "cell_type": "code",
   "execution_count": 12,
   "id": "16be8c7a",
   "metadata": {},
   "outputs": [
    {
     "name": "stdout",
     "output_type": "stream",
     "text": [
      "Animal name: Buddy\n",
      "Buddy,barks\n"
     ]
    }
   ],
   "source": [
    "class Animal:\n",
    "    def __init__(self, name):\n",
    "        self.name = name\n",
    "    def info(self):\n",
    "        print(f\"Animal name: {self.name}\")\n",
    "class Dog(Animal):\n",
    "    def sound(self):\n",
    "        print(f\"{self.name},barks\")\n",
    "d = Dog('Buddy')\n",
    "d.info()\n",
    "d.sound()"
   ]
  },
  {
   "cell_type": "markdown",
   "id": "4714a95c",
   "metadata": {},
   "source": [
    "- implmenting super()"
   ]
  },
  {
   "cell_type": "markdown",
   "id": "8aa7911e",
   "metadata": {},
   "source": [
    "This is used to call the parent's class methods "
   ]
  },
  {
   "cell_type": "code",
   "execution_count": 14,
   "id": "2e00ed25",
   "metadata": {},
   "outputs": [
    {
     "name": "stdout",
     "output_type": "stream",
     "text": [
      "Animal Name: Buddy\n",
      "Buddy is a Golden Retriever\n"
     ]
    }
   ],
   "source": [
    "class Animal:\n",
    "    def __init__(self, name):\n",
    "        self.name = name\n",
    "    def info(self):\n",
    "        print(f\"Animal Name: {self.name}\")\n",
    "class Dog(Animal):\n",
    "    def __init__(self, name, breed):\n",
    "        super().__init__(name) # call the parent class constructor\n",
    "        self. breed = breed\n",
    "    def details(self):\n",
    "        print(self.name,\"is a\",self.breed)\n",
    "d = Dog('Buddy','Golden Retriever')\n",
    "d.info()\n",
    "d.details()"
   ]
  }
 ],
 "metadata": {
  "kernelspec": {
   "display_name": "Python 3",
   "language": "python",
   "name": "python3"
  },
  "language_info": {
   "codemirror_mode": {
    "name": "ipython",
    "version": 3
   },
   "file_extension": ".py",
   "mimetype": "text/x-python",
   "name": "python",
   "nbconvert_exporter": "python",
   "pygments_lexer": "ipython3",
   "version": "3.12.5"
  }
 },
 "nbformat": 4,
 "nbformat_minor": 5
}
