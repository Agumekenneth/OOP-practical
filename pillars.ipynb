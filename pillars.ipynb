{
 "cells": [
  {
   "cell_type": "markdown",
   "id": "b1d356b6",
   "metadata": {},
   "source": [
    "- inheritance"
   ]
  },
  {
   "cell_type": "code",
   "execution_count": 4,
   "id": "16be8c7a",
   "metadata": {},
   "outputs": [
    {
     "name": "stdout",
     "output_type": "stream",
     "text": [
      "self.name,barks\n",
      "Animal name: Buddy\n"
     ]
    }
   ],
   "source": [
    "class Animal:\n",
    "    def __init__(self, name):\n",
    "        self.name = name\n",
    "    def info(self):\n",
    "        print(f\"Animal name: {self.name}\")\n",
    "class Dog(Animal):\n",
    "    print(\"self.name,barks\")\n",
    "d = Dog('Buddy')\n",
    "d.info()"
   ]
  }
 ],
 "metadata": {
  "kernelspec": {
   "display_name": "Python 3",
   "language": "python",
   "name": "python3"
  },
  "language_info": {
   "codemirror_mode": {
    "name": "ipython",
    "version": 3
   },
   "file_extension": ".py",
   "mimetype": "text/x-python",
   "name": "python",
   "nbconvert_exporter": "python",
   "pygments_lexer": "ipython3",
   "version": "3.12.5"
  }
 },
 "nbformat": 4,
 "nbformat_minor": 5
}
