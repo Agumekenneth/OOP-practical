{
 "cells": [
  {
   "cell_type": "markdown",
   "id": "31adf88f",
   "metadata": {},
   "source": [
    "### Enscapsulation\n",
    "- Encapsulation means wrapping data and methods that work on that data into a single unit — usually a class.\n",
    "- It is implemented using the double underscore prefix (__) before an attribute.\n",
    "\n",
    "\n"
   ]
  },
  {
   "cell_type": "code",
   "execution_count": null,
   "id": "863a6ada",
   "metadata": {},
   "outputs": [
    {
     "name": "stdout",
     "output_type": "stream",
     "text": [
      "Nimaro\n",
      "85\n",
      "95\n"
     ]
    }
   ],
   "source": [
    "class Student:\n",
    "    def __init__(self, name, grade):\n",
    "        self.name = name          #public access\n",
    "        self.__grade = grade      # enscapsulation\n",
    "\n",
    "    # Getter method(access)\n",
    "    def get_grade(self):\n",
    "        return self.__grade\n",
    "\n",
    "    # Setter method (modify)\n",
    "    def set_grade(self, grade):\n",
    "        if 0 <= grade <= 100:\n",
    "            self.__grade = grade\n",
    "        else:\n",
    "            print(\"Invalid grade! Must be between 0 and 100.\")\n",
    "\n",
    "# Create object\n",
    "student1 = Student(\"Nimaro\", 85)\n",
    "\n",
    "# Access public attribute\n",
    "print(student1.name)        \n",
    "\n",
    "# Access private attribute directly\n",
    "# print(student1.__grade)    \n",
    "\n",
    "# Access via getter\n",
    "print(student1.get_grade())  \n",
    "\n",
    "# Modify via setter\n",
    "student1.set_grade(95)\n",
    "print(student1.get_grade())  \n",
    "# Data only be modified or viewed through controlled methods (getters and setters).\n"
   ]
  },
  {
   "cell_type": "markdown",
   "id": "28e3cc26",
   "metadata": {},
   "source": [
    "# importance\n",
    "- It restricts direct access to data, which can prevent the accidental modification of data.\n",
    "- It allows controlled access to data through getter and setter methods.\n",
    "- It enables flexibility and maintains code ."
   ]
  },
  {
   "cell_type": "markdown",
   "id": "b81793ae",
   "metadata": {},
   "source": [
    "# Abstraction\n",
    "- is defining what an object can do , not how it does it.\n",
    "Abstraction is hiding complex details and showing only the essential features of something\n",
    "\n"
   ]
  },
  {
   "cell_type": "code",
   "execution_count": 4,
   "id": "e00f6f0d",
   "metadata": {},
   "outputs": [
    {
     "name": "stdout",
     "output_type": "stream",
     "text": [
      "Parent class initialized\n",
      "Child class initialized\n"
     ]
    }
   ],
   "source": [
    "class Parent:\n",
    "    def __init__(self):\n",
    "        print(\"Parent class initialized\")\n",
    "\n",
    "class Child(Parent):\n",
    "    def __init__(self):\n",
    "        # Call the parent class constructor\n",
    "        super().__init__()\n",
    "        print(\"Child class initialized\")\n",
    "\n",
    "# Create an object of Child\n",
    "obj = Child()\n",
    "\n"
   ]
  },
  {
   "cell_type": "markdown",
   "id": "cc6b5baf",
   "metadata": {},
   "source": [
    "# Polymorphism"
   ]
  },
  {
   "cell_type": "code",
   "execution_count": 5,
   "id": "b9cff28e",
   "metadata": {},
   "outputs": [
    {
     "name": "stdout",
     "output_type": "stream",
     "text": [
      "Bark\n",
      "Meow\n"
     ]
    }
   ],
   "source": [
    "class Animal:\n",
    "    def speak(self):\n",
    "        return \"Some sound\"\n",
    "\n",
    "class Dog(Animal):\n",
    "    def speak(self):\n",
    "        return \"Bark\"\n",
    "\n",
    "class Cat(Animal):\n",
    "    def speak(self):\n",
    "        return \"Meow\"\n",
    "\n",
    "# Create different objects\n",
    "dog = Dog()\n",
    "cat = Cat()\n",
    "\n",
    "# Use a common interface (same method name)\n",
    "for animal in (dog, cat):\n",
    "    print(animal.speak())\n"
   ]
  }
 ],
 "metadata": {
  "kernelspec": {
   "display_name": "Python 3",
   "language": "python",
   "name": "python3"
  },
  "language_info": {
   "codemirror_mode": {
    "name": "ipython",
    "version": 3
   },
   "file_extension": ".py",
   "mimetype": "text/x-python",
   "name": "python",
   "nbconvert_exporter": "python",
   "pygments_lexer": "ipython3",
   "version": "3.12.2"
  }
 },
 "nbformat": 4,
 "nbformat_minor": 5
}
