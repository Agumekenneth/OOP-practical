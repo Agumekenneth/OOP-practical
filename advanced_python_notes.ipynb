{
 "cells": [
  {
   "cell_type": "markdown",
   "id": "f1c2245a",
   "metadata": {},
   "source": [
    "## ADVANCED PYTHON NOTES - AGUME KENNETH- BSDS"
   ]
  },
  {
   "cell_type": "markdown",
   "id": "35109213",
   "metadata": {},
   "source": [
    "## *ARGS AND **KWARGS\n",
    "- *args are also known as non-keyword arguments that allow us to pass any number of positional arguments to a function. The arguments are collected into a tuple.\n",
    "- **kwargs also known as keyword arguments allows us to pass any number of keyword arguments in the form of key value pairs(key=value). These arguments are collected into a dictionary.\n",
    "\n",
    "# How to pack and unpack arguments\n",
    "- Packing allows for multiple values to be combined into a single parameter. For tuples/lists this is done using * while for dictionaries this is done using **.\n",
    "- Unpacking arguments allows values from an iterable for example a tuple or dictionary to be passed as separate arguments to a function.\n",
    "\n",
    "**Packing Arguments**\n",
    "- *args packs multiple positional arguments into a tuple\n",
    "- **kwargs collects multiple keyword arguments into a dictionary.\n",
    "\n",
    "**Unpacking Arguments**\n",
    "- Allows values from an iterable i.e a list, tuple or dictionary to be passed as separate arguments to a function.\n",
    "\n",
    "**Flexible function signatures:**  are function definitions that can accept a variable number of arguments allowing the function to handle different quantities or types of inputs without needing a  fixed parameter list. They allow a function to accept ;\n",
    "- any number of positional arguments(*args)\n",
    "- any number f keyword arguments (**kwargs)\n",
    "- a combination of required, optional, positional and keyword arguments."
   ]
  },
  {
   "cell_type": "code",
   "execution_count": 1,
   "id": "2c6ed89b",
   "metadata": {},
   "outputs": [
    {
     "name": "stdout",
     "output_type": "stream",
     "text": [
      "Packed positional arguments: (6, 34, 9, 21, 'This is packing in *args')\n",
      "Packed keyword arguments: {'name': 'Lisa', 'nationality': 'Ugandan', 'age': 21}\n",
      "[1, 2, 3, 4, 5, 6]\n"
     ]
    }
   ],
   "source": [
    "#Packing Arguments\n",
    "\n",
    "##packing with *args\n",
    "def trial(*args):\n",
    "    print(\"Packed positional arguments:\", args)\n",
    "\n",
    "trial(6,34,9,21, \"This is packing in *args\")\n",
    "\n",
    "\n",
    "## packing with **kwargs\n",
    "def trial2(**kwargs):\n",
    "    print(\"Packed keyword arguments:\", kwargs)\n",
    "\n",
    "trial2(name=\"Lisa\", nationality=\"Ugandan\", age=21)\n",
    "\n",
    "#Packing example 2\n",
    "nums =[1,2,3,4,5,6]\n",
    "print(nums)"
   ]
  },
  {
   "cell_type": "code",
   "execution_count": 2,
   "id": "390aaccf",
   "metadata": {},
   "outputs": [
    {
     "name": "stdout",
     "output_type": "stream",
     "text": [
      "Sum: 16\n",
      "Name: Lisa, Nationality: Ugandan, Age: 21\n",
      "1 2 3 4 5 6\n"
     ]
    }
   ],
   "source": [
    "#Unpacking Arguments\n",
    "\n",
    "## unpacking a list/tuple with *\n",
    "def addition(a, b, c):\n",
    "    return a + b + c\n",
    "\n",
    "numbers = (1, 5, 10)\n",
    "result = addition(*numbers)\n",
    "print(\"Sum:\", result)\n",
    "\n",
    "## unpacking a dictionary using **\n",
    "def details(name, nationality, age):\n",
    "    print(f\"Name: {name}, Nationality: {nationality}, Age: {age}\")\n",
    "\n",
    "info={\"name\":\"Lisa\",\"nationality\":\"Ugandan\",\"age\":21}\n",
    "details(**info)\n",
    "\n",
    "# unpacking example 2\n",
    "nums =[1,2,3,4,5,6]\n",
    "print(*nums)"
   ]
  },
  {
   "cell_type": "code",
   "execution_count": 10,
   "id": "abfa6b90",
   "metadata": {},
   "outputs": [
    {
     "name": "stdout",
     "output_type": "stream",
     "text": [
      "User: Alice, Roles: ('admin', 'manager'), Metadata: {'email': 'jasmine2@gmail.com'}\n"
     ]
    }
   ],
   "source": [
    "#combining use of *args and **kwargs for packing and unpacking\n",
    "  # this function preocesses user data with variable roles and metadata\n",
    "\n",
    "def create_user(name, *roles, **metadata):\n",
    "    print(f\"User: {name}, Roles: {roles}, Metadata: {metadata}\")\n",
    "\n",
    "roles = [\"admin\",\"manager\"]\n",
    "metadata = {\"email\": \"jasmine2@gmail.com\"}\n",
    "create_user(\"Alice\", *roles, **metadata)"
   ]
  },
  {
   "cell_type": "code",
   "execution_count": 15,
   "id": "cc914132",
   "metadata": {},
   "outputs": [
    {
     "name": "stdout",
     "output_type": "stream",
     "text": [
      "237\n",
      "17.7\n",
      "The non-integer argument me is skipped\n",
      "4\n"
     ]
    }
   ],
   "source": [
    "# a function that sums any number of numbers\n",
    "def addition(*args):\n",
    "    total = 0\n",
    "    for arg in args:\n",
    "        if isinstance(arg, (int, float)):\n",
    "            total += arg\n",
    "        else:\n",
    "            print(f\"The non-integer argument {arg} is skipped\")\n",
    "    return total\n",
    "\n",
    "print(addition(4,71,30,46,2,84))\n",
    "print(addition(4,3.7,8,2))\n",
    "print(addition(3,\"me\",1))\n"
   ]
  },
  {
   "cell_type": "markdown",
   "id": "599a7610",
   "metadata": {},
   "source": [
    "## LAMBDA FUNCTIONS\n",
    "- A lambda function is a small anonymous function that can take any number of arguments but can only have one expression.\n",
    "- Their power is better shown when used as an anonymous function inside another function.\n",
    "\n",
    "**Throwaway Functions**\n",
    "- Lambdas are small throwaway functions you pass to something else immediately after creation. This means they are used when you need to pass one function as an argument to another. \n",
    "- Lambdas are use-once functions that you don't want to bother giving a name, because you're not going to use them again.\n",
    "- They allow us to do something simple such as sorting a list of various strings without having to define a whole new function.\n",
    "\n",
    "**When to use def instead of lambda function**\n",
    "- we use def when creating a function that we will use in other places nad not just once. \n",
    "- Also when we are going to have multiple lines of code and the function contains more complex logic."
   ]
  },
  {
   "cell_type": "code",
   "execution_count": null,
   "id": "a6b64041",
   "metadata": {},
   "outputs": [
    {
     "name": "stdout",
     "output_type": "stream",
     "text": [
      "22\n"
     ]
    }
   ],
   "source": [
    "# EXAMPLE CODE - Here it is used as a function definition to make a function that always doubles the number you send in.\n",
    "def myfunc(n):\n",
    "    return lambda a : a * n\n",
    "\n",
    "mydoubler = myfunc(2)\n",
    "print(mydoubler(11))"
   ]
  },
  {
   "cell_type": "code",
   "execution_count": 28,
   "id": "a4c97207",
   "metadata": {},
   "outputs": [
    {
     "name": "stdout",
     "output_type": "stream",
     "text": [
      "[{'first_name': 'Mary', 'last_name': 'Ann', 'age': 21}, {'first_name': 'John', 'last_name': 'Mark', 'age': 25}, {'first_name': 'James', 'last_name': 'Matthew', 'age': 23}]\n",
      "[{'first_name': 'Mary', 'last_name': 'Ann', 'age': 21}, {'first_name': 'James', 'last_name': 'Matthew', 'age': 23}, {'first_name': 'John', 'last_name': 'Mark', 'age': 25}]\n",
      "[{'first_name': 'Mary', 'last_name': 'Ann', 'age': 21}, {'first_name': 'James', 'last_name': 'Matthew', 'age': 23}, {'first_name': 'John', 'last_name': 'Mark', 'age': 25}]\n"
     ]
    }
   ],
   "source": [
    "#Sorting a list of dicts by multiple keys means arranging the dictionaries in a list based on the values of two or more keys within each dictionary, in a specified order.\n",
    "students = [\n",
    "    {\"first_name\": \"Mary\", \"last_name\": \"Ann\", \"age\": 21},\n",
    "    {\"first_name\": \"John\", \"last_name\": \"Mark\", \"age\": 25},\n",
    "    {\"first_name\": \"James\", \"last_name\": \"Matthew\", \"age\": 23},\n",
    "]\n",
    "\n",
    "#Using sorted() function\n",
    "sorted_students = sorted(students, key=lambda x: (x[\"last_name\"], x[\"first_name\"]))\n",
    "print(sorted_students)\n",
    "\n",
    "#Using list of tuples\n",
    "t= sorted([(x['age'], x['first_name'], x) for x in students])\n",
    "d= [x[2] for x in t]\n",
    "print(d)\n",
    "\n",
    "#Using itemgetter() Method\n",
    "from operator import itemgetter\n",
    "s = sorted(students, key=itemgetter('age','last_name'))\n",
    "print(s)"
   ]
  },
  {
   "cell_type": "code",
   "execution_count": 29,
   "id": "2893ce6e",
   "metadata": {},
   "outputs": [
    {
     "name": "stdout",
     "output_type": "stream",
     "text": [
      "[4, 16, 36]\n"
     ]
    }
   ],
   "source": [
    "#Using lambda in a functional pipeline.\n",
    "'''\n",
    "Using lambda in a functional pipeline means incorporating \n",
    "lambdas into a sequence of operations where each \n",
    "operation takes the output of the previous one as input.\n",
    "This provides a concise way to define small, single-purpose \n",
    "functions directly within the pipeleine definition, avoiding \n",
    "the need to declare separate named functions. Hence improving \n",
    "readability for straightfoward transformations.\n",
    "'''\n",
    "\n",
    "numbers = [1,2,3,4,5,6]\n",
    "squared_evens = list(filter(lambda x: x % 2 == 0, map(lambda x: x**2, numbers)))\n",
    "print(squared_evens)\n"
   ]
  },
  {
   "cell_type": "markdown",
   "id": "d5a36fc7",
   "metadata": {},
   "source": [
    "## CLOSURES\n",
    "- Closures are like memory equipped functions.\n",
    "- A closure is a function that you define in and return from another function.\n",
    "- They allow a function to remember values from the environment in which it was created even if that environment no longer exists. \n",
    "- They help retain some state without using global variables.\n",
    "\n",
    "**How closures are formed**\n",
    "- When a function is defined inside another function(nested function)\n",
    "- The inner function references variables form the outer function\n",
    "- The outer function returns the inner function.\n",
    "\n",
    "**Note:** All closures are inner functions but not all inner functions are closures. To turn an inner function to a closure, you must return the inner function object from the outer function. \n",
    "- you can also use lambda functions to create closures."
   ]
  },
  {
   "cell_type": "code",
   "execution_count": 40,
   "id": "abf6561f",
   "metadata": {},
   "outputs": [
    {
     "name": "stdout",
     "output_type": "stream",
     "text": [
      "Hello, Lisa!\n",
      "Hello, Lisa Lusinga!\n"
     ]
    }
   ],
   "source": [
    "def outer():\n",
    "    name= \"Lisa\"\n",
    "    def inner():\n",
    "        print(f\"Hello, {name}!\")\n",
    "    return inner\n",
    "\n",
    "outer()\n",
    "\n",
    "greeter = outer()\n",
    "\n",
    "greeter()\n",
    "\n",
    "#In this example, you return the inner function instead of calling it i.e inner()\n",
    "\n",
    "\n",
    "#Using a lambda function as a closure\n",
    "\n",
    "def outer_func():\n",
    "    first_name = \"Lisa\"\n",
    "    last_name = \"Lusinga\"\n",
    "    return lambda: print(f\"Hello, {first_name} {last_name}!\")\n",
    "\n",
    "greet =outer_func()\n",
    "greet()"
   ]
  },
  {
   "cell_type": "markdown",
   "id": "2fc1eb23",
   "metadata": {},
   "source": [
    "**Retain state means a function:**\n",
    "1. can store data e.g a counter, total from one call to the next \n",
    "2. update or access this data each time it's called, without resetting it\n",
    "3. keep the state private to the function's scope, avoiding global variables\n",
    "\n",
    "**Why state retention is useful**\n",
    "- Encapsulation: The state is hidden from the outside world, preventing accidental modification.\n",
    "- Independence: Multiple instances of the function can maintain separate states e.g multiple counters\n",
    "- Flexibility: Stateful functions can track history or context, useful for counters, accumulators or memoization.\n",
    "- Avoiding global variables: State is localized, making code safer and more modular.\n"
   ]
  },
  {
   "cell_type": "code",
   "execution_count": 51,
   "id": "92bd723f",
   "metadata": {},
   "outputs": [
    {
     "name": "stdout",
     "output_type": "stream",
     "text": [
      "1\n",
      "2\n",
      "1\n"
     ]
    }
   ],
   "source": [
    "# make_counter function that retains its state\n",
    "def make_counter(initial_value = 0):\n",
    "    ''' \n",
    "    Creates a counter function that retains its state using a closure\n",
    "    initial_value: the starting value for the counter, the default being 0\n",
    "    returns: a nested function that increments and returns the counter's value\n",
    "    '''\n",
    "    count = initial_value\n",
    "    def counter():\n",
    "        nonlocal count # this declares that 'count' is not local but from an enclosing scope\n",
    "        count+=1\n",
    "        return count\n",
    "    return counter\n",
    "\n",
    "counter1 = make_counter()\n",
    "counter2= make_counter()\n",
    "print(counter1())\n",
    "print(counter1())\n",
    "print(counter2()) # this has a separate state\n",
    "\n"
   ]
  },
  {
   "cell_type": "markdown",
   "id": "53a011ee",
   "metadata": {},
   "source": [
    "***Late binding trap in closures***\n",
    "- This means that the value used in the closure is looked up when the function is called and now when it was defined. Since the function is called after the loop if  finished, we will end up alwasy using the last value in the loop."
   ]
  },
  {
   "cell_type": "code",
   "execution_count": 53,
   "id": "55c724f4",
   "metadata": {},
   "outputs": [
    {
     "name": "stdout",
     "output_type": "stream",
     "text": [
      "[5, 5, 5, 5, 5]\n"
     ]
    }
   ],
   "source": [
    "## example of late binding\n",
    "new_funcs = [lambda: x+1 for x in range(5) ]\n",
    "output = [nf() for nf in new_funcs]\n",
    "print(output)"
   ]
  },
  {
   "cell_type": "code",
   "execution_count": 57,
   "id": "75e73323",
   "metadata": {},
   "outputs": [
    {
     "name": "stdout",
     "output_type": "stream",
     "text": [
      "[1, 2, 3, 4, 5]\n"
     ]
    }
   ],
   "source": [
    "# fixing the issue of late binding by binding the argument to the closure early.\n",
    "''' \n",
    "This is done by passing it as the argument to the outer function\n",
    "'''\n",
    "\n",
    "#using callable\n",
    "from typing import Callable\n",
    "def add_one(x: int) -> Callable[[], int]:\n",
    "    def g() -> int:\n",
    "        return x+1\n",
    "    return g\n",
    "\n",
    "#using lambda\n",
    "def add_one(x: int) -> Callable[[], int]:\n",
    "    return lambda: x +1\n",
    "\n",
    "#using functools.partial\n",
    "from functools import partial\n",
    "def add_one(x: int) -> int:\n",
    "    return x+1\n",
    "\n",
    "new_funcs = [add_one(r) for r in range(5)]\n",
    "new_funcs = [partial(add_one,r) for r in range(5)] # for functools.partial\n",
    "output = [nf() for nf in new_funcs]\n",
    "\n",
    "print(output)"
   ]
  },
  {
   "cell_type": "markdown",
   "id": "ccd7c9f4",
   "metadata": {},
   "source": [
    "**PITFALL**\n",
    "\n",
    "***Shared state across closures***\n",
    "- Is a situation where multiple closures have access to and can modify the same variables or data from their enclosing scope."
   ]
  },
  {
   "cell_type": "markdown",
   "id": "04926ed9",
   "metadata": {},
   "source": [
    "## ITERATORS\n",
    "- An iterator is an object used to traverse through all the elements of a collection like lists, tuples or dictionaries one element ata time. It follows the iterator protocol, which involves two key methods:\n",
    "1. __ iter __(): Rerturns the iterator object itself.\n",
    "2. __ next __(): Returns the next value from the sequence and raises StopIteration when the sequence ends.\n",
    "- It is an object that can be iterated upon, meaning that you can traverse through all the values.\n",
    "\n",
    "**Difference between Iterators and Iterable**\n",
    "- An iterable is an object that can be iterated over e.g lists tuple\n",
    "- An iterator is an object that performs the iteration. It keeps track of the current state of the iteration and provides a way to access the next element in the sequence.\n",
    "\n",
    "\n",
    "***An iterable is the source of data that can be traversed while an iterator is the mechanism that performs the traversal over the iterable's data.***"
   ]
  },
  {
   "cell_type": "code",
   "execution_count": 58,
   "id": "1d091d90",
   "metadata": {},
   "outputs": [
    {
     "name": "stdout",
     "output_type": "stream",
     "text": [
      "Fibonacci sequence up to 50:\n",
      "0\n",
      "1\n",
      "1\n",
      "2\n",
      "3\n",
      "5\n",
      "8\n",
      "13\n",
      "21\n",
      "34\n",
      "\n",
      "First few Fibonacci numbers using next():\n",
      "0\n",
      "1\n",
      "1\n"
     ]
    }
   ],
   "source": [
    "class FibonacciIterator:\n",
    "    \"\"\"\n",
    "    An iterator class that generates Fibonacci numbers up to a specified limit.\n",
    "    \"\"\"\n",
    "    def __init__(self, limit):\n",
    "        \"\"\"\n",
    "        Initializes the FibonacciIterator.\n",
    "\n",
    "        Args:\n",
    "            limit (int): The maximum value a Fibonacci number can reach before\n",
    "                         the iteration stops.\n",
    "        \"\"\"\n",
    "        self.limit = limit\n",
    "        self.a = 0  # Represents the (n-2)th Fibonacci number\n",
    "        self.b = 1  # Represents the (n-1)th Fibonacci number\n",
    "\n",
    "    def __iter__(self):\n",
    "        \"\"\"\n",
    "        Returns the iterator object itself. This method is called when an\n",
    "        iterator is requested for an object.\n",
    "        \"\"\"\n",
    "        return self\n",
    "\n",
    "    def __next__(self):\n",
    "        \"\"\"\n",
    "        Generates the next Fibonacci number in the sequence.\n",
    "\n",
    "        Raises:\n",
    "            StopIteration: When the current Fibonacci number exceeds the limit.\n",
    "\n",
    "        Returns:\n",
    "            int: The next Fibonacci number.\n",
    "        \"\"\"\n",
    "        if self.a > self.limit:\n",
    "            raise StopIteration\n",
    "\n",
    "        current_fib = self.a\n",
    "        self.a, self.b = self.b, self.a + self.b\n",
    "        return current_fib\n",
    "\n",
    "# Example Usage:\n",
    "# Create an instance of the FibonacciIterator to generate numbers up to 50\n",
    "fib_sequence = FibonacciIterator(50)\n",
    "\n",
    "# Iterate and print the Fibonacci numbers\n",
    "print(\"Fibonacci sequence up to 50:\")\n",
    "for num in fib_sequence:\n",
    "    print(num)\n",
    "\n",
    "# Demonstrate using next() directly\n",
    "print(\"\\nFirst few Fibonacci numbers using next():\")\n",
    "fib_direct = FibonacciIterator(10)\n",
    "print(next(fib_direct))\n",
    "print(next(fib_direct))\n",
    "print(next(fib_direct))\n"
   ]
  },
  {
   "cell_type": "markdown",
   "id": "9486755e",
   "metadata": {},
   "source": [
    "**Iterators are consumed after one pass**\n",
    "- This means that once you iterate through an iterator e.g using a for loop, list() or next(), you cannot iterate over it again because the iterator's internal state is depleted. \n",
    "- After exhaustion, the iterator cannot be reused; you must create a new iterator from the original iterable to iterate again."
   ]
  },
  {
   "cell_type": "code",
   "execution_count": 61,
   "id": "6405e8e9",
   "metadata": {},
   "outputs": [
    {
     "name": "stdout",
     "output_type": "stream",
     "text": [
      "First pass:\n",
      "1\n",
      "2\n",
      "3\n",
      "\n",
      "Second pass:\n",
      "\n",
      "New iterator pass:\n",
      "1\n",
      "2\n",
      "3\n"
     ]
    }
   ],
   "source": [
    "\n",
    "def demonstrate_iterator():\n",
    "    \"\"\"\n",
    "    Demonstrates that an iterator is consumed after one pass.\n",
    "    Uses a list as the iterable and shows iterator exhaustion.\n",
    "    \"\"\"\n",
    "    # Create an iterable (list)\n",
    "    numbers = [1, 2, 3]\n",
    "    \n",
    "    # Create an iterator from the iterable\n",
    "    iterator = iter(numbers)\n",
    "    \n",
    "    # First pass: Iterate using a for loop\n",
    "    print(\"First pass:\")\n",
    "    for num in iterator:\n",
    "        print(num)\n",
    "    \n",
    "    # Second pass: Try iterating again\n",
    "    print(\"\\nSecond pass:\")\n",
    "    for num in iterator:\n",
    "        print(num)  # No output, iterator is exhausted\n",
    "    \n",
    "    # Create a new iterator to iterate again\n",
    "    iterator = iter(numbers)\n",
    "    print(\"\\nNew iterator pass:\")\n",
    "    for num in iterator:\n",
    "        print(num)\n",
    "\n",
    "# Example usage\n",
    "demonstrate_iterator()"
   ]
  },
  {
   "cell_type": "markdown",
   "id": "3ee9768f",
   "metadata": {},
   "source": [
    "# GENERATORS\n",
    "- A generator function is a special type of function that returns an iterator object. \n",
    "- Instead of using return to send back a single value, generator functions use yield to produce a series of results over time. \n",
    "- This allows the function to generate values and pause its execution after each yield, maintaining its state between iterations.\n",
    "\n",
    "***They are a special kind of function that return a lazy iterator. These(lazy iterators) are objects that you can loop over like a list, however they do not store their contents in memory like lists. ***\n",
    "\n",
    "\n",
    "**Lazy Evaluation:** values are generated only when requested, making them ideal for large or infinite sequences.\n",
    "\n",
    "\n",
    "**Memory Efficiency:** Generators produce values on demand, avoiding the need to store an entire list of numbers in memory.\n",
    "\n",
    "-The **yield** keyword is used to return a list of values from a function.\n"
   ]
  },
  {
   "cell_type": "code",
   "execution_count": 66,
   "id": "9de71dec",
   "metadata": {},
   "outputs": [
    {
     "name": "stdout",
     "output_type": "stream",
     "text": [
      "0\n",
      "1\n",
      "4\n",
      "9\n",
      "16\n",
      "0\n",
      "1\n",
      "4\n",
      "9\n",
      "16\n"
     ]
    }
   ],
   "source": [
    "#Generator expression for squares from 0 to 4\n",
    "squares_gen = (x**2 for x in range(5))\n",
    "\n",
    "#Iterate and print the squares\n",
    "for square in squares_gen:\n",
    "    print(square)\n",
    "\n",
    "\n",
    "#Generator function for squares \n",
    "def squares_generator(limit):\n",
    "    for i in range(limit):\n",
    "        yield i * i\n",
    "\n",
    "#create a generator object for squares up to 5\n",
    "my_squares= squares_generator(5)\n",
    "\n",
    "\n",
    "# iterate and print the squares\n",
    "for num in my_squares:\n",
    "    print(num)\n"
   ]
  },
  {
   "cell_type": "markdown",
   "id": "bd9c0a7f",
   "metadata": {},
   "source": [
    "## DECORATORS\n",
    "- They are a flexible way to modify or extend behaviour of functions or methods, without changing their actual code.\n",
    "- A decorator is essentially a function that takes another function as an argument and returns a new function with enhanced functionality.\n",
    "- Decorators provide a simple way to implement higher-order functions in Python, enhancing code reusability and readability."
   ]
  },
  {
   "cell_type": "code",
   "execution_count": 67,
   "id": "0b4a23d6",
   "metadata": {},
   "outputs": [
    {
     "name": "stdout",
     "output_type": "stream",
     "text": [
      "Before calling the function.\n",
      "Hello, World!\n",
      "After calling the function.\n"
     ]
    }
   ],
   "source": [
    "def decorator(func):\n",
    "    def wrapper():\n",
    "        print(\"Before calling the function.\")\n",
    "        func()\n",
    "        print(\"After calling the function.\")\n",
    "    return wrapper\n",
    "\n",
    "@decorator # Applying the decorator to a function\n",
    "def greet():\n",
    "    print(\"Hello, World!\")\n",
    "greet()"
   ]
  },
  {
   "cell_type": "code",
   "execution_count": 5,
   "id": "6ed8a20b",
   "metadata": {},
   "outputs": [
    {
     "name": "stdout",
     "output_type": "stream",
     "text": [
      "Function 'my_function' executed in 0.1024 seconds.\n"
     ]
    },
    {
     "data": {
      "text/plain": [
       "30"
      ]
     },
     "execution_count": 5,
     "metadata": {},
     "output_type": "execute_result"
    }
   ],
   "source": [
    "# A @timeit decorator in Python measures and reports the execution time of a function it decorates. \n",
    "import time\n",
    "\n",
    "def timeit(func):\n",
    "    def wrapper(*args, **kwargs):\n",
    "        start_time = time.perf_counter()  # Use perf_counter for precise timing\n",
    "        result = func(*args, **kwargs)\n",
    "        end_time = time.perf_counter()\n",
    "        elapsed_time = end_time - start_time\n",
    "        print(f\"Function '{func.__name__}' executed in {elapsed_time:.4f} seconds.\")\n",
    "        return result\n",
    "    return wrapper\n",
    "\n",
    "# Example usage:\n",
    "@timeit\n",
    "def my_function(a, b):\n",
    "    time.sleep(0.1)  # Simulate some work\n",
    "    return a + b\n",
    "\n",
    "my_function(10, 20)\n"
   ]
  }
 ],
 "metadata": {
  "kernelspec": {
   "display_name": "Python 3",
   "language": "python",
   "name": "python3"
  },
  "language_info": {
   "codemirror_mode": {
    "name": "ipython",
    "version": 3
   },
   "file_extension": ".py",
   "mimetype": "text/x-python",
   "name": "python",
   "nbconvert_exporter": "python",
   "pygments_lexer": "ipython3",
   "version": "3.12.5"
  }
 },
 "nbformat": 4,
 "nbformat_minor": 5
}
